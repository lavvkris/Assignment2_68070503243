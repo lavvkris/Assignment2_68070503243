{
  "cells": [
    {
      "cell_type": "markdown",
      "metadata": {
        "id": "view-in-github",
        "colab_type": "text"
      },
      "source": [
        "<a href=\"https://colab.research.google.com/github/lavvkris/Assignment2_68070503243/blob/main/Practice%2BNumbers%2C%2BStrings%2C%2Band%2BLists%2BPractice_(1).ipynb\" target=\"_parent\"><img src=\"https://colab.research.google.com/assets/colab-badge.svg\" alt=\"Open In Colab\"/></a>"
      ]
    },
    {
      "cell_type": "markdown",
      "metadata": {
        "id": "QgELJHsBjRT-"
      },
      "source": [
        "#  Numbers"
      ]
    },
    {
      "cell_type": "markdown",
      "metadata": {
        "id": "ZJe_OIx2jRUA"
      },
      "source": [
        "Compute the number of bytes in one Gigabyte (1kb = 1024 bytes, 1mb = 1024 kb, 1gb = 1024 mb)"
      ]
    },
    {
      "cell_type": "code",
      "execution_count": null,
      "metadata": {
        "id": "kC_JnurDjRUB",
        "outputId": "20376386-df05-4ae0-af94-79f8bd01948b"
      },
      "outputs": [
        {
          "name": "stdout",
          "output_type": "stream",
          "text": [
            "1073741824\n"
          ]
        }
      ],
      "source": [
        "num = 1024*1024*1024\n",
        "print(num)\n"
      ]
    },
    {
      "cell_type": "markdown",
      "metadata": {
        "id": "V051-e-YjRUC"
      },
      "source": [
        "You bought 500 shares of stock A at $\\$$600 on day 0 and you sold it at  $\\$$1000 on day 700.\n",
        "The daily discount rate is 0.0001%. How much profit did you make in terms of net present value.\n"
      ]
    },
    {
      "cell_type": "code",
      "execution_count": null,
      "metadata": {
        "id": "NxSqnsChjRUD",
        "outputId": "39d1d0c7-84af-46d0-fda5-3998bf876f73"
      },
      "outputs": [
        {
          "name": "stdout",
          "output_type": "stream",
          "text": [
            "net_profit_number: ([200000], 2)\n"
          ]
        }
      ],
      "source": [
        "share = 500\n",
        "current_price = 600\n",
        "sell_price = 1000\n",
        "days =700\n",
        "npv = [(sell_price - current_price )* (share)]\n",
        "print(\"net_profit_number:\", (npv) )"
      ]
    },
    {
      "cell_type": "markdown",
      "metadata": {
        "id": "AauU4i_AjRUD"
      },
      "source": [
        "For any value of x, create a variable called even_check that is True if x is even and False if x is odd."
      ]
    },
    {
      "cell_type": "code",
      "execution_count": null,
      "metadata": {
        "run_control": {
          "marked": true
        },
        "id": "0oC16vf1jRUD",
        "outputId": "00dc0100-a700-4daf-ced7-cb035909ac5e"
      },
      "outputs": [
        {
          "name": "stdout",
          "output_type": "stream",
          "text": [
            "x = 31\n",
            "even_check = False\n"
          ]
        }
      ],
      "source": [
        "x = 31\n",
        "even_check = (x % 2 == 0)\n",
        "print(\"x =\", x)\n",
        "print( \"even_check =\", even_check)\n"
      ]
    },
    {
      "cell_type": "markdown",
      "metadata": {
        "id": "66h8GjSnjRUE"
      },
      "source": [
        "You have num_shirts t-shirts, num_shorts pairs of shorts and num_shoes pairs of shoes.  Create a variable called num_outfits that stores the total number of different outfits you can make."
      ]
    },
    {
      "cell_type": "code",
      "execution_count": null,
      "metadata": {
        "id": "SQvqzEh1jRUE",
        "outputId": "2d244afb-43ee-4c3f-91e6-93d09ddffd78"
      },
      "outputs": [
        {
          "name": "stdout",
          "output_type": "stream",
          "text": [
            "Total Number of Different Outfits: 72\n"
          ]
        }
      ],
      "source": [
        "num_shirts = 3\n",
        "num_shorts = 4\n",
        "num_shoes = 6\n",
        "num_outfits = num_shirts * num_shorts * num_shoes\n",
        "print( \"Total Number of Different Outfits:\", num_outfits)\n"
      ]
    },
    {
      "cell_type": "markdown",
      "metadata": {
        "id": "fU1BPU4ojRUE"
      },
      "source": [
        "# String Practice\n",
        "\n",
        "Create variable called \"name\" that stores your full name. Find whether your name has an even or odd number of letters."
      ]
    },
    {
      "cell_type": "code",
      "execution_count": null,
      "metadata": {
        "id": "EVW8tol4jRUF",
        "outputId": "db200d27-5272-417a-e4d5-d047ece0f5cc"
      },
      "outputs": [
        {
          "name": "stdout",
          "output_type": "stream",
          "text": [
            "Your name has an odd number of letters.\n",
            "Number of letters: 13\n"
          ]
        }
      ],
      "source": [
        "name =\"KHAING SU YIN\"\n",
        "length = len(name.replace(\"\",\"\"))\n",
        "if length % 2 == 0:\n",
        "    print (\"Your name had an even number of letters.\")\n",
        "else:\n",
        "    print(\"Your name has an odd number of letters.\")\n",
        "    print(\"Number of letters:\", length)\n"
      ]
    },
    {
      "cell_type": "markdown",
      "metadata": {
        "id": "NdeEUOdjjRUF"
      },
      "source": [
        "Correct the following variable so it is equal to \"spammy\""
      ]
    },
    {
      "cell_type": "code",
      "execution_count": null,
      "metadata": {
        "id": "YXtO5oK_jRUF",
        "outputId": "3015014d-adef-499b-a9f7-ac26e8aed50a"
      },
      "outputs": [
        {
          "name": "stdout",
          "output_type": "stream",
          "text": [
            "spammy\n"
          ]
        }
      ],
      "source": [
        "#Write your code here\n",
        "s = \"spaxxy\"\n",
        "s =\"spammy\"\n",
        "print(s)"
      ]
    },
    {
      "cell_type": "markdown",
      "metadata": {
        "id": "wr2NtdGujRUF"
      },
      "source": [
        "Figure out a way to slice and combine the strings s1, s2, and s3 so that the variable consec_ints = \"123456789\"."
      ]
    },
    {
      "cell_type": "code",
      "execution_count": null,
      "metadata": {
        "id": "tpw4toyIjRUG",
        "outputId": "76421bab-0ed5-4793-ca6e-01ca586a00ae"
      },
      "outputs": [
        {
          "name": "stdout",
          "output_type": "stream",
          "text": [
            "1234567789\n"
          ]
        }
      ],
      "source": [
        "s1 = \"12345\"\n",
        "s2 = \"34567\"\n",
        "s3 = \"789\"\n",
        "\n",
        "consec_ints = s1 + s2[3:] + s3\n",
        "print (consec_ints)\n",
        "\n"
      ]
    },
    {
      "cell_type": "markdown",
      "metadata": {
        "id": "kCwSMO1qjRUG"
      },
      "source": [
        "#  List Practice\n",
        "\n"
      ]
    },
    {
      "cell_type": "markdown",
      "metadata": {
        "id": "QvanjyjEjRUG"
      },
      "source": [
        "Add the first and last elements of the list L. Store the result in a variable called sum_first_last. Your code should work if I change L."
      ]
    },
    {
      "cell_type": "code",
      "execution_count": null,
      "metadata": {
        "id": "166mupc5jRUG",
        "outputId": "a2d24f11-a111-411b-b978-496cef1e455e"
      },
      "outputs": [
        {
          "name": "stdout",
          "output_type": "stream",
          "text": [
            "72\n"
          ]
        }
      ],
      "source": [
        "L = [5,1,43,2,4,56,7,90, 67]\n",
        "\n",
        "L = [5,1,43,2,4,56,7,90,67]\n",
        "sum_first_last = L[0] + L[-1]\n",
        "print(sum_first_last)\n"
      ]
    },
    {
      "cell_type": "markdown",
      "metadata": {
        "id": "eKJ0hBaXjRUG"
      },
      "source": [
        "Slice and combine the elements of the list L in a way to print out \"spam\"."
      ]
    },
    {
      "cell_type": "code",
      "execution_count": null,
      "metadata": {
        "id": "CU8_W47-jRUG",
        "outputId": "4464a7cf-4cdd-49a7-c91f-90ed7b586d86"
      },
      "outputs": [
        {
          "name": "stdout",
          "output_type": "stream",
          "text": [
            "spam\n"
          ]
        }
      ],
      "source": [
        "L = [1,\"s\", 2, 3, \"p\", \"a\", 34,1,\"m\"]\n",
        "\n",
        "\n",
        "L = [1,\"s\",2,3,\"p\",\"a\",34,1,\"m\"]\n",
        "word = L[1] + L[4] + L[5] + L[-1]\n",
        "print(word)"
      ]
    },
    {
      "cell_type": "markdown",
      "metadata": {
        "id": "mnl3qs_PjRUH"
      },
      "source": [
        "Create a variable called num_L which store the number represented by the list of strings in L.  For the example num_L should be 145. You may assume 3 digit numbers."
      ]
    },
    {
      "cell_type": "code",
      "execution_count": null,
      "metadata": {
        "id": "LoaQtNf-jRUH",
        "outputId": "933364b0-d720-4f18-919d-19e2b69b68b2"
      },
      "outputs": [
        {
          "name": "stdout",
          "output_type": "stream",
          "text": [
            "145\n"
          ]
        }
      ],
      "source": [
        "L = [\"1\",\"4\",\"5\" ]\n",
        "num_L = int(\"\".join(L))\n",
        "print(num_L)\n"
      ]
    },
    {
      "cell_type": "markdown",
      "metadata": {
        "id": "ub9KOcPsjRUI"
      },
      "source": [
        "Create a list L of numbers of odd length.  Complete the following tasks:\n",
        "\n",
        " - Find the median element\n",
        " - Slice out all element indexed lower than the median element"
      ]
    },
    {
      "cell_type": "code",
      "execution_count": null,
      "metadata": {
        "id": "fYuKyHQSjRUI",
        "outputId": "ae38b9fc-bca3-488b-ec47-91c9c9c6b28a"
      },
      "outputs": [
        {
          "name": "stdout",
          "output_type": "stream",
          "text": [
            "Median element: 2\n",
            "Sliced list; [2, 6, 6, 9]\n"
          ]
        }
      ],
      "source": [
        "L = [4,5,3,2,6,6,9]\n",
        "L = [4,5,3,2,6,6,9]\n",
        "median_index = len(L) // 2\n",
        "median_element = L[median_index]\n",
        "print(\"Median element:\", median_element)\n",
        "sliced_list = L[median_index:]\n",
        "print(\"Sliced list;\", sliced_list)"
      ]
    }
  ],
  "metadata": {
    "kernelspec": {
      "display_name": "Python 3",
      "language": "python",
      "name": "python3"
    },
    "language_info": {
      "codemirror_mode": {
        "name": "ipython",
        "version": 3
      },
      "file_extension": ".py",
      "mimetype": "text/x-python",
      "name": "python",
      "nbconvert_exporter": "python",
      "pygments_lexer": "ipython3",
      "version": "3.13.5"
    },
    "toc": {
      "colors": {
        "hover_highlight": "#DAA520",
        "navigate_num": "#000000",
        "navigate_text": "#333333",
        "running_highlight": "#FF0000",
        "selected_highlight": "#FFD700",
        "sidebar_border": "#EEEEEE",
        "wrapper_background": "#FFFFFF"
      },
      "moveMenuLeft": true,
      "nav_menu": {
        "height": "12px",
        "width": "252px"
      },
      "navigate_menu": true,
      "number_sections": true,
      "sideBar": true,
      "skip_h1_title": false,
      "threshold": 4,
      "toc_cell": false,
      "toc_position": {},
      "toc_section_display": "block",
      "toc_window_display": false,
      "widenNotebook": false
    },
    "colab": {
      "provenance": [],
      "include_colab_link": true
    }
  },
  "nbformat": 4,
  "nbformat_minor": 0
}